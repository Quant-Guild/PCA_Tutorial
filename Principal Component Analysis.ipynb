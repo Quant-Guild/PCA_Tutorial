{
 "cells": [
  {
   "cell_type": "markdown",
   "id": "b8700d08",
   "metadata": {},
   "source": [
    "![title](qgr.png)"
   ]
  },
  {
   "cell_type": "markdown",
   "id": "62eec323",
   "metadata": {},
   "source": [
    "# Principal Component Analysis Tutorial"
   ]
  },
  {
   "cell_type": "code",
   "execution_count": 1,
   "id": "1101ab43",
   "metadata": {},
   "outputs": [],
   "source": [
    "import numpy as np\n",
    "import pandas as pd"
   ]
  },
  {
   "cell_type": "code",
   "execution_count": 2,
   "id": "b23df6a4",
   "metadata": {},
   "outputs": [
    {
     "data": {
      "text/plain": [
       "'1.21.2'"
      ]
     },
     "execution_count": 2,
     "metadata": {},
     "output_type": "execute_result"
    }
   ],
   "source": [
    "np.__version__"
   ]
  },
  {
   "cell_type": "code",
   "execution_count": 3,
   "id": "7b922225",
   "metadata": {},
   "outputs": [
    {
     "data": {
      "text/plain": [
       "'1.3.2'"
      ]
     },
     "execution_count": 3,
     "metadata": {},
     "output_type": "execute_result"
    }
   ],
   "source": [
    "pd.__version__"
   ]
  },
  {
   "cell_type": "markdown",
   "id": "a509e98e",
   "metadata": {},
   "source": [
    "### Welcome to Quant Guild Research!\n",
    "\n",
    "In this notebook we will be walking you through principal component analysis, prior knowledge in this domain is not required but definitely won't hurt!  \n",
    "\n",
    "Let us first introduce the problem space...\n",
    "\n",
    "Suppose you had some data:"
   ]
  },
  {
   "cell_type": "code",
   "execution_count": 4,
   "id": "619239ba",
   "metadata": {},
   "outputs": [
    {
     "data": {
      "text/html": [
       "<div>\n",
       "<style scoped>\n",
       "    .dataframe tbody tr th:only-of-type {\n",
       "        vertical-align: middle;\n",
       "    }\n",
       "\n",
       "    .dataframe tbody tr th {\n",
       "        vertical-align: top;\n",
       "    }\n",
       "\n",
       "    .dataframe thead th {\n",
       "        text-align: right;\n",
       "    }\n",
       "</style>\n",
       "<table border=\"1\" class=\"dataframe\">\n",
       "  <thead>\n",
       "    <tr style=\"text-align: right;\">\n",
       "      <th></th>\n",
       "      <th>x</th>\n",
       "      <th>y</th>\n",
       "      <th>z</th>\n",
       "    </tr>\n",
       "  </thead>\n",
       "  <tbody>\n",
       "    <tr>\n",
       "      <th>0</th>\n",
       "      <td>0</td>\n",
       "      <td>0.0</td>\n",
       "      <td>0.00</td>\n",
       "    </tr>\n",
       "    <tr>\n",
       "      <th>1</th>\n",
       "      <td>1</td>\n",
       "      <td>0.5</td>\n",
       "      <td>0.75</td>\n",
       "    </tr>\n",
       "    <tr>\n",
       "      <th>2</th>\n",
       "      <td>2</td>\n",
       "      <td>1.0</td>\n",
       "      <td>1.50</td>\n",
       "    </tr>\n",
       "    <tr>\n",
       "      <th>3</th>\n",
       "      <td>3</td>\n",
       "      <td>1.5</td>\n",
       "      <td>2.25</td>\n",
       "    </tr>\n",
       "    <tr>\n",
       "      <th>4</th>\n",
       "      <td>4</td>\n",
       "      <td>2.0</td>\n",
       "      <td>3.00</td>\n",
       "    </tr>\n",
       "  </tbody>\n",
       "</table>\n",
       "</div>"
      ],
      "text/plain": [
       "   x    y     z\n",
       "0  0  0.0  0.00\n",
       "1  1  0.5  0.75\n",
       "2  2  1.0  1.50\n",
       "3  3  1.5  2.25\n",
       "4  4  2.0  3.00"
      ]
     },
     "execution_count": 4,
     "metadata": {},
     "output_type": "execute_result"
    }
   ],
   "source": [
    "# Measurable variables x and y\n",
    "x = np.arange(0, 10, 1)\n",
    "y = np.arange(0,5, .5)\n",
    "z = (x+y)/2\n",
    "\n",
    "# Aggregated data\n",
    "data = pd.DataFrame(columns=['x', 'y', 'z'])\n",
    "data['x'] = x\n",
    "data['y'] = y\n",
    "data['z'] = z\n",
    "data.head()"
   ]
  },
  {
   "cell_type": "markdown",
   "id": "36a3b6ed",
   "metadata": {},
   "source": [
    "These variables may represent almost anything (stock price, lagged price, earnings, etc).  Nevertheless, the main idea we want to illustrate is that each variable is not orthogonal to another; that is, the information encoded into one variable may also be encoded into another.  \n",
    "\n",
    "Think about a stock's price today and a stock's price yesterday, the price today has new information encoded into it, but also overlaps with some of the information from the previous day.  Utilizing this type of information in a model creates a combination of noise and redundancy that overwhelming hurts during the modeling process.\n",
    "\n",
    "Covariance is a measure of one variables directional relationship with another - we can use a covariance matrix to get a quantitative measure of this idea:\n",
    "\n",
    "$$cov(x, x) = var(x)$$\n",
    "\n",
    "$$\\Sigma = \\begin{bmatrix}\n",
    "var(x) & cov(x, y) & cov(x, z)\\\\\n",
    "cov(y, x) & var(y) & cov(y, z)\\\\\n",
    "cov(z, x) & cov(z, y) & var(z)\n",
    "\\end{bmatrix}$$\n",
    "\n",
    "In Python we can retrieve the covariance matrix directly from a Pandas DataFrame:"
   ]
  },
  {
   "cell_type": "code",
   "execution_count": 5,
   "id": "5b6c1100",
   "metadata": {},
   "outputs": [
    {
     "data": {
      "text/html": [
       "<div>\n",
       "<style scoped>\n",
       "    .dataframe tbody tr th:only-of-type {\n",
       "        vertical-align: middle;\n",
       "    }\n",
       "\n",
       "    .dataframe tbody tr th {\n",
       "        vertical-align: top;\n",
       "    }\n",
       "\n",
       "    .dataframe thead th {\n",
       "        text-align: right;\n",
       "    }\n",
       "</style>\n",
       "<table border=\"1\" class=\"dataframe\">\n",
       "  <thead>\n",
       "    <tr style=\"text-align: right;\">\n",
       "      <th></th>\n",
       "      <th>x</th>\n",
       "      <th>y</th>\n",
       "      <th>z</th>\n",
       "    </tr>\n",
       "  </thead>\n",
       "  <tbody>\n",
       "    <tr>\n",
       "      <th>x</th>\n",
       "      <td>9.166667</td>\n",
       "      <td>4.583333</td>\n",
       "      <td>6.87500</td>\n",
       "    </tr>\n",
       "    <tr>\n",
       "      <th>y</th>\n",
       "      <td>4.583333</td>\n",
       "      <td>2.291667</td>\n",
       "      <td>3.43750</td>\n",
       "    </tr>\n",
       "    <tr>\n",
       "      <th>z</th>\n",
       "      <td>6.875000</td>\n",
       "      <td>3.437500</td>\n",
       "      <td>5.15625</td>\n",
       "    </tr>\n",
       "  </tbody>\n",
       "</table>\n",
       "</div>"
      ],
      "text/plain": [
       "          x         y        z\n",
       "x  9.166667  4.583333  6.87500\n",
       "y  4.583333  2.291667  3.43750\n",
       "z  6.875000  3.437500  5.15625"
      ]
     },
     "execution_count": 5,
     "metadata": {},
     "output_type": "execute_result"
    }
   ],
   "source": [
    "data.cov()"
   ]
  },
  {
   "cell_type": "markdown",
   "id": "50719a18",
   "metadata": {},
   "source": [
    "We can see quite clearly that the directional relationship of measured variables x,y,z is far from indepenedent (given by non-zero covariances).\n",
    "\n",
    "What if we could diagonalize the covariance matrix? ...\n",
    "\n",
    "$$\\Sigma_I = \\begin{bmatrix}\n",
    "1 & 0 & 0\\\\\n",
    "0 & 1 & 0\\\\\n",
    "0 & 0 & 1\n",
    "\\end{bmatrix}$$\n",
    "\n",
    "If this was the case, it would imply that each variable contributes unique information - exactly what we are looking for to reduce noise and redundancy! \n",
    "\n",
    "So now we have defined a goal: find a linear transformation that allows us to arrive at a diagonalized covariance matrix.  The linear transformation applied to the data matrix in efforts to diagonalize the covariance matrix creates our principal components, hence principal component analysis.\n",
    "\n",
    "To accomplish this we will use some tricks from linear algebra, after de-meaning we can compute the covariance matrix as:\n",
    "\n",
    "$$\\Sigma_X = \\frac{X X^T}{n-1}$$\n",
    "\n",
    "Where $X$ is our data matrix and $n$ is the number of samples:"
   ]
  },
  {
   "cell_type": "code",
   "execution_count": 6,
   "id": "801d0f5e",
   "metadata": {},
   "outputs": [
    {
     "data": {
      "text/html": [
       "<div>\n",
       "<style scoped>\n",
       "    .dataframe tbody tr th:only-of-type {\n",
       "        vertical-align: middle;\n",
       "    }\n",
       "\n",
       "    .dataframe tbody tr th {\n",
       "        vertical-align: top;\n",
       "    }\n",
       "\n",
       "    .dataframe thead th {\n",
       "        text-align: right;\n",
       "    }\n",
       "</style>\n",
       "<table border=\"1\" class=\"dataframe\">\n",
       "  <thead>\n",
       "    <tr style=\"text-align: right;\">\n",
       "      <th></th>\n",
       "      <th>x</th>\n",
       "      <th>y</th>\n",
       "      <th>z</th>\n",
       "    </tr>\n",
       "  </thead>\n",
       "  <tbody>\n",
       "    <tr>\n",
       "      <th>0</th>\n",
       "      <td>-4.5</td>\n",
       "      <td>-2.25</td>\n",
       "      <td>-3.375</td>\n",
       "    </tr>\n",
       "    <tr>\n",
       "      <th>1</th>\n",
       "      <td>-3.5</td>\n",
       "      <td>-1.75</td>\n",
       "      <td>-2.625</td>\n",
       "    </tr>\n",
       "    <tr>\n",
       "      <th>2</th>\n",
       "      <td>-2.5</td>\n",
       "      <td>-1.25</td>\n",
       "      <td>-1.875</td>\n",
       "    </tr>\n",
       "    <tr>\n",
       "      <th>3</th>\n",
       "      <td>-1.5</td>\n",
       "      <td>-0.75</td>\n",
       "      <td>-1.125</td>\n",
       "    </tr>\n",
       "    <tr>\n",
       "      <th>4</th>\n",
       "      <td>-0.5</td>\n",
       "      <td>-0.25</td>\n",
       "      <td>-0.375</td>\n",
       "    </tr>\n",
       "  </tbody>\n",
       "</table>\n",
       "</div>"
      ],
      "text/plain": [
       "     x     y      z\n",
       "0 -4.5 -2.25 -3.375\n",
       "1 -3.5 -1.75 -2.625\n",
       "2 -2.5 -1.25 -1.875\n",
       "3 -1.5 -0.75 -1.125\n",
       "4 -0.5 -0.25 -0.375"
      ]
     },
     "execution_count": 6,
     "metadata": {},
     "output_type": "execute_result"
    }
   ],
   "source": [
    "# De-meaning the data\n",
    "ddata = (data - data.mean())\n",
    "ddata.head()"
   ]
  },
  {
   "cell_type": "markdown",
   "id": "fbdef3a6",
   "metadata": {},
   "source": [
    "#### The Covariance Matrix"
   ]
  },
  {
   "cell_type": "code",
   "execution_count": 7,
   "id": "84d21389",
   "metadata": {},
   "outputs": [
    {
     "data": {
      "text/plain": [
       "array([[9.16666667, 4.58333333, 6.875     ],\n",
       "       [4.58333333, 2.29166667, 3.4375    ],\n",
       "       [6.875     , 3.4375    , 5.15625   ]])"
      ]
     },
     "execution_count": 7,
     "metadata": {},
     "output_type": "execute_result"
    }
   ],
   "source": [
    "# Computing the covariance matrix directly\n",
    "np.dot(ddata.values.T, ddata.values)/(ddata.shape[0]-1)"
   ]
  },
  {
   "cell_type": "markdown",
   "id": "f942da3f",
   "metadata": {},
   "source": [
    "Since the covariance matrix symmetric we can compute the eigen decomposition or singular value decomposition:\n",
    "\n",
    "$$X = USV^{T}$$\n",
    "$$or$$\n",
    "$$\\Sigma_X = X X^T= Z \\Lambda Z^{-1}$$"
   ]
  },
  {
   "cell_type": "markdown",
   "id": "cc4d3db9",
   "metadata": {},
   "source": [
    "#### Eigen Decomposition"
   ]
  },
  {
   "cell_type": "code",
   "execution_count": 47,
   "id": "b7b18e9e",
   "metadata": {},
   "outputs": [
    {
     "data": {
      "text/plain": [
       "array([[ 0.74278135,  0.66953406, -0.0900247 ],\n",
       "       [ 0.37139068, -0.41202096, -0.76909479],\n",
       "       [ 0.55708601, -0.61803144,  0.6327628 ]])"
      ]
     },
     "execution_count": 47,
     "metadata": {},
     "output_type": "execute_result"
    }
   ],
   "source": [
    "# Eigen decomposition for eigen vectors\n",
    "l, Z = np.linalg.eig(np.dot(ddata.values.T, ddata.values)/(ddata.shape[0]-1))\n",
    "l = np.diag(l)\n",
    "Z"
   ]
  },
  {
   "cell_type": "code",
   "execution_count": 48,
   "id": "179c2862",
   "metadata": {},
   "outputs": [
    {
     "data": {
      "text/plain": [
       "array([[9.16666667, 4.58333333, 6.875     ],\n",
       "       [4.58333333, 2.29166667, 3.4375    ],\n",
       "       [6.875     , 3.4375    , 5.15625   ]])"
      ]
     },
     "execution_count": 48,
     "metadata": {},
     "output_type": "execute_result"
    }
   ],
   "source": [
    "# Reconstruction of covariance matrix via eigen decomposition\n",
    "np.dot(np.dot(Z, l), Z.T)"
   ]
  },
  {
   "cell_type": "markdown",
   "id": "0ff48635",
   "metadata": {},
   "source": [
    "#### Singular Value Decomposition"
   ]
  },
  {
   "cell_type": "code",
   "execution_count": 49,
   "id": "e6628807",
   "metadata": {},
   "outputs": [
    {
     "data": {
      "text/plain": [
       "array([[-0.74278135,  0.66951658,  0.00483894],\n",
       "       [-0.37139068, -0.4059967 , -0.83500637],\n",
       "       [-0.55708601, -0.6220243 ,  0.55021899]])"
      ]
     },
     "execution_count": 49,
     "metadata": {},
     "output_type": "execute_result"
    }
   ],
   "source": [
    "# Singular value decomposition for eigen vectors\n",
    "U, S, VT = np.linalg.svd(np.dot(ddata.values.T, ddata.values)/(ddata.shape[0]-1))\n",
    "S = np.diag(S)\n",
    "U"
   ]
  },
  {
   "cell_type": "code",
   "execution_count": 50,
   "id": "adb873f1",
   "metadata": {},
   "outputs": [
    {
     "data": {
      "text/plain": [
       "array([[9.16666667, 4.58333333, 6.875     ],\n",
       "       [4.58333333, 2.29166667, 3.4375    ],\n",
       "       [6.875     , 3.4375    , 5.15625   ]])"
      ]
     },
     "execution_count": 50,
     "metadata": {},
     "output_type": "execute_result"
    }
   ],
   "source": [
    "# Reconstruction of covariance matrix via singular value decomposition\n",
    "np.dot(np.dot(U, S), VT)"
   ]
  },
  {
   "cell_type": "markdown",
   "id": "bfa08b6a",
   "metadata": {},
   "source": [
    "Note that the sign is irrelevant and the primary difference is in the SVD which produces the square of eigenvalues and is sorted unlike the eigen decomposition."
   ]
  },
  {
   "cell_type": "markdown",
   "id": "c5afe369",
   "metadata": {},
   "source": [
    "To diagonalize the covariance matrix we will first consider eigen decomposition...\n",
    "\n",
    "Now suppose we take our original data matrix $X$ and operate in this new basis $Z$, the data can be called $X_Z$\n",
    "\n",
    "$$X_Z = Z^T X$$\n",
    "\n",
    "Now consider the covariance under this new basis\n",
    "\n",
    "$$\\Sigma_{X_Z} = \\frac{X_Z X_Z^T}{n-1}$$\n",
    "\n",
    "Now let's substitute in for $X_Z$\n",
    "\n",
    "$$\\Sigma_{X_Z} = \\frac{Z^T X (Z^T X)^T}{n-1} = \\frac{Z^T X X^T Z}{n-1}$$\n",
    "\n",
    "But we know that $X X^T$ is given in terms of the decompositions we arrived at above: $X X^T = Z \\Lambda Z^{-1}$\n",
    "\n",
    "$$\\Sigma_{X_Z} = \\frac{Z^TZ \\Lambda Z^{-1} Z}{n-1}$$\n",
    "\n",
    "Something really cool happens now (by construction) to $Z^T Z$ and $Z^{-1} Z$:"
   ]
  },
  {
   "cell_type": "code",
   "execution_count": 58,
   "id": "dec24099",
   "metadata": {},
   "outputs": [
    {
     "data": {
      "text/plain": [
       "array([[ 0.74278135,  0.66953406,  0.        ],\n",
       "       [ 0.37139068, -0.52492263, -0.83967522],\n",
       "       [ 0.55708601, -0.54276367,  0.55978348]])"
      ]
     },
     "execution_count": 58,
     "metadata": {},
     "output_type": "execute_result"
    }
   ],
   "source": [
    "np.linalg.inv(Z.T)"
   ]
  },
  {
   "cell_type": "code",
   "execution_count": 60,
   "id": "553341db",
   "metadata": {},
   "outputs": [
    {
     "data": {
      "text/plain": [
       "array([[ 0.74278135,  0.66953406, -0.0900247 ],\n",
       "       [ 0.37139068, -0.41202096, -0.76909479],\n",
       "       [ 0.55708601, -0.61803144,  0.6327628 ]])"
      ]
     },
     "execution_count": 60,
     "metadata": {},
     "output_type": "execute_result"
    }
   ],
   "source": [
    "Z"
   ]
  },
  {
   "cell_type": "code",
   "execution_count": 62,
   "id": "d718ccd6",
   "metadata": {},
   "outputs": [
    {
     "data": {
      "text/plain": [
       "array([[ 1.,  0., -0.],\n",
       "       [-0.,  1., -0.],\n",
       "       [ 0., -0.,  1.]])"
      ]
     },
     "execution_count": 62,
     "metadata": {},
     "output_type": "execute_result"
    }
   ],
   "source": [
    "np.round(np.dot(Z, np.linalg.inv(Z)), 1)"
   ]
  },
  {
   "cell_type": "markdown",
   "id": "5accb088",
   "metadata": {},
   "source": [
    "This means that $Z^T = Z^{-1}$ and $ZZ^T = I$ thus\n",
    "\n",
    "$$\\Sigma_{X_Z} = \\frac{\\Lambda}{n-1}$$\n",
    "\n",
    "But what is $\\Lambda$?  Diagonal!"
   ]
  },
  {
   "cell_type": "code",
   "execution_count": 14,
   "id": "ec54c870",
   "metadata": {},
   "outputs": [
    {
     "data": {
      "text/plain": [
       "array([[16.6146,  0.    ,  0.    ],\n",
       "       [ 0.    ,  0.    ,  0.    ],\n",
       "       [ 0.    ,  0.    , -0.    ]])"
      ]
     },
     "execution_count": 14,
     "metadata": {},
     "output_type": "execute_result"
    }
   ],
   "source": [
    "np.round(l, 4)"
   ]
  },
  {
   "cell_type": "markdown",
   "id": "098f702d",
   "metadata": {},
   "source": [
    "Naturally, we can acheive this same result with our singular value decomposition"
   ]
  },
  {
   "cell_type": "code",
   "execution_count": 15,
   "id": "aecc217f",
   "metadata": {},
   "outputs": [
    {
     "data": {
      "text/plain": [
       "array([[16.6146,  0.    ,  0.    ],\n",
       "       [ 0.    ,  0.    ,  0.    ],\n",
       "       [ 0.    ,  0.    ,  0.    ]])"
      ]
     },
     "execution_count": 15,
     "metadata": {},
     "output_type": "execute_result"
    }
   ],
   "source": [
    "np.round(S, 4)"
   ]
  },
  {
   "cell_type": "markdown",
   "id": "cace330e",
   "metadata": {},
   "source": [
    "This draws an interesting connection between the eigen decomposition and singular value decomposition of the covariance matrix, mainly\n",
    "\n",
    "$$\\lambda_i = \\sigma_i^2$$\n",
    "\n",
    "The squared singular values are equivalent to the respective eigenvalue!\n",
    "\n",
    "The derivation from singular value decomposition is even more straightforward:\n",
    "\n",
    "$$X = U S V^T$$\n",
    "\n",
    "$$X_V = V^T X^T$$\n",
    "\n",
    "$$\\Sigma_{X_V} = \\frac{X_V X_V^T}{n-1} = \\frac{V^T X^T (V^T X^T)^T}{n-1} = \\frac{V^T (U S V^T)^T (V^T (U S V^T)^T)^T}{n-1} = \\frac{V^T V S^T U^T U S V^T V}{n-1} = \\frac{S^2}{n-1} = \\frac{\\Lambda}{n-1}$$"
   ]
  },
  {
   "cell_type": "markdown",
   "id": "349fd168",
   "metadata": {},
   "source": [
    "#### Let's get back to the root of the problem"
   ]
  },
  {
   "cell_type": "code",
   "execution_count": 16,
   "id": "1eb7b05c",
   "metadata": {},
   "outputs": [
    {
     "data": {
      "text/html": [
       "<div>\n",
       "<style scoped>\n",
       "    .dataframe tbody tr th:only-of-type {\n",
       "        vertical-align: middle;\n",
       "    }\n",
       "\n",
       "    .dataframe tbody tr th {\n",
       "        vertical-align: top;\n",
       "    }\n",
       "\n",
       "    .dataframe thead th {\n",
       "        text-align: right;\n",
       "    }\n",
       "</style>\n",
       "<table border=\"1\" class=\"dataframe\">\n",
       "  <thead>\n",
       "    <tr style=\"text-align: right;\">\n",
       "      <th></th>\n",
       "      <th>x</th>\n",
       "      <th>y</th>\n",
       "      <th>z</th>\n",
       "    </tr>\n",
       "  </thead>\n",
       "  <tbody>\n",
       "    <tr>\n",
       "      <th>0</th>\n",
       "      <td>0</td>\n",
       "      <td>0.0</td>\n",
       "      <td>0.00</td>\n",
       "    </tr>\n",
       "    <tr>\n",
       "      <th>1</th>\n",
       "      <td>1</td>\n",
       "      <td>0.5</td>\n",
       "      <td>0.75</td>\n",
       "    </tr>\n",
       "    <tr>\n",
       "      <th>2</th>\n",
       "      <td>2</td>\n",
       "      <td>1.0</td>\n",
       "      <td>1.50</td>\n",
       "    </tr>\n",
       "    <tr>\n",
       "      <th>3</th>\n",
       "      <td>3</td>\n",
       "      <td>1.5</td>\n",
       "      <td>2.25</td>\n",
       "    </tr>\n",
       "    <tr>\n",
       "      <th>4</th>\n",
       "      <td>4</td>\n",
       "      <td>2.0</td>\n",
       "      <td>3.00</td>\n",
       "    </tr>\n",
       "  </tbody>\n",
       "</table>\n",
       "</div>"
      ],
      "text/plain": [
       "   x    y     z\n",
       "0  0  0.0  0.00\n",
       "1  1  0.5  0.75\n",
       "2  2  1.0  1.50\n",
       "3  3  1.5  2.25\n",
       "4  4  2.0  3.00"
      ]
     },
     "execution_count": 16,
     "metadata": {},
     "output_type": "execute_result"
    }
   ],
   "source": [
    "data.head()"
   ]
  },
  {
   "cell_type": "markdown",
   "id": "eaf12051",
   "metadata": {},
   "source": [
    "We know that variables x and y contribute information to z (again, by construction) and we want to remove the overlapping information from the two variables\n",
    "\n",
    "To accomplish this we transform the variables to operate in a new basis via eigen decomposition ($Z^T$) or singular value decomposition ($V^T$)"
   ]
  },
  {
   "cell_type": "markdown",
   "id": "4ba677a1",
   "metadata": {},
   "source": [
    "#### PCA via Eigen Decomposition of The Covariance Matrix"
   ]
  },
  {
   "cell_type": "code",
   "execution_count": 17,
   "id": "98be8440",
   "metadata": {},
   "outputs": [],
   "source": [
    "# Eigen way\n",
    "l, Z = np.linalg.eig(ddata.cov())\n",
    "zt = np.dot(Z.T, ddata.T)"
   ]
  },
  {
   "cell_type": "markdown",
   "id": "db5a994a",
   "metadata": {},
   "source": [
    "Eigen Principal Components"
   ]
  },
  {
   "cell_type": "code",
   "execution_count": 18,
   "id": "87451ff7",
   "metadata": {},
   "outputs": [
    {
     "data": {
      "text/html": [
       "<div>\n",
       "<style scoped>\n",
       "    .dataframe tbody tr th:only-of-type {\n",
       "        vertical-align: middle;\n",
       "    }\n",
       "\n",
       "    .dataframe tbody tr th {\n",
       "        vertical-align: top;\n",
       "    }\n",
       "\n",
       "    .dataframe thead th {\n",
       "        text-align: right;\n",
       "    }\n",
       "</style>\n",
       "<table border=\"1\" class=\"dataframe\">\n",
       "  <thead>\n",
       "    <tr style=\"text-align: right;\">\n",
       "      <th></th>\n",
       "      <th>0</th>\n",
       "      <th>1</th>\n",
       "      <th>2</th>\n",
       "    </tr>\n",
       "  </thead>\n",
       "  <tbody>\n",
       "    <tr>\n",
       "      <th>0</th>\n",
       "      <td>-6.058310</td>\n",
       "      <td>-5.412337e-16</td>\n",
       "      <td>-1.249001e-16</td>\n",
       "    </tr>\n",
       "    <tr>\n",
       "      <th>1</th>\n",
       "      <td>-4.712019</td>\n",
       "      <td>-3.469447e-16</td>\n",
       "      <td>1.249001e-16</td>\n",
       "    </tr>\n",
       "    <tr>\n",
       "      <th>2</th>\n",
       "      <td>-3.365728</td>\n",
       "      <td>-3.747003e-16</td>\n",
       "      <td>-6.938894e-17</td>\n",
       "    </tr>\n",
       "    <tr>\n",
       "      <th>3</th>\n",
       "      <td>-2.019437</td>\n",
       "      <td>-6.938894e-17</td>\n",
       "      <td>-4.163336e-17</td>\n",
       "    </tr>\n",
       "    <tr>\n",
       "      <th>4</th>\n",
       "      <td>-0.673146</td>\n",
       "      <td>-4.163336e-17</td>\n",
       "      <td>1.387779e-17</td>\n",
       "    </tr>\n",
       "  </tbody>\n",
       "</table>\n",
       "</div>"
      ],
      "text/plain": [
       "          0             1             2\n",
       "0 -6.058310 -5.412337e-16 -1.249001e-16\n",
       "1 -4.712019 -3.469447e-16  1.249001e-16\n",
       "2 -3.365728 -3.747003e-16 -6.938894e-17\n",
       "3 -2.019437 -6.938894e-17 -4.163336e-17\n",
       "4 -0.673146 -4.163336e-17  1.387779e-17"
      ]
     },
     "execution_count": 18,
     "metadata": {},
     "output_type": "execute_result"
    }
   ],
   "source": [
    "zt_df = pd.DataFrame(zt.T)\n",
    "zt_df.head()"
   ]
  },
  {
   "cell_type": "code",
   "execution_count": 19,
   "id": "fb0f408c",
   "metadata": {},
   "outputs": [
    {
     "data": {
      "text/plain": [
       "array([[16.6146,  0.    ,  0.    ],\n",
       "       [ 0.    ,  0.    ,  0.    ],\n",
       "       [ 0.    ,  0.    ,  0.    ]])"
      ]
     },
     "execution_count": 19,
     "metadata": {},
     "output_type": "execute_result"
    }
   ],
   "source": [
    "np.round(np.cov(zt), 4)"
   ]
  },
  {
   "cell_type": "markdown",
   "id": "07e96cbb",
   "metadata": {},
   "source": [
    "#### PCA via Singular Value Decomposition of the Data Matrix"
   ]
  },
  {
   "cell_type": "code",
   "execution_count": 20,
   "id": "74123dc1",
   "metadata": {},
   "outputs": [],
   "source": [
    "Ux, Sx, VTx = np.linalg.svd(ddata)"
   ]
  },
  {
   "cell_type": "code",
   "execution_count": 21,
   "id": "eb1c6176",
   "metadata": {},
   "outputs": [],
   "source": [
    "# SVD way\n",
    "vt = np.dot(VTx, ddata.T)"
   ]
  },
  {
   "cell_type": "markdown",
   "id": "f150b039",
   "metadata": {},
   "source": [
    "SVD Principal Components"
   ]
  },
  {
   "cell_type": "code",
   "execution_count": 22,
   "id": "f68c75bd",
   "metadata": {},
   "outputs": [
    {
     "data": {
      "text/html": [
       "<div>\n",
       "<style scoped>\n",
       "    .dataframe tbody tr th:only-of-type {\n",
       "        vertical-align: middle;\n",
       "    }\n",
       "\n",
       "    .dataframe tbody tr th {\n",
       "        vertical-align: top;\n",
       "    }\n",
       "\n",
       "    .dataframe thead th {\n",
       "        text-align: right;\n",
       "    }\n",
       "</style>\n",
       "<table border=\"1\" class=\"dataframe\">\n",
       "  <thead>\n",
       "    <tr style=\"text-align: right;\">\n",
       "      <th></th>\n",
       "      <th>0</th>\n",
       "      <th>1</th>\n",
       "      <th>2</th>\n",
       "    </tr>\n",
       "  </thead>\n",
       "  <tbody>\n",
       "    <tr>\n",
       "      <th>0</th>\n",
       "      <td>-6.058310</td>\n",
       "      <td>1.054712e-15</td>\n",
       "      <td>6.245005e-17</td>\n",
       "    </tr>\n",
       "    <tr>\n",
       "      <th>1</th>\n",
       "      <td>-4.712019</td>\n",
       "      <td>9.436896e-16</td>\n",
       "      <td>-3.955170e-16</td>\n",
       "    </tr>\n",
       "    <tr>\n",
       "      <th>2</th>\n",
       "      <td>-3.365728</td>\n",
       "      <td>6.106227e-16</td>\n",
       "      <td>-7.632783e-17</td>\n",
       "    </tr>\n",
       "    <tr>\n",
       "      <th>3</th>\n",
       "      <td>-2.019437</td>\n",
       "      <td>3.885781e-16</td>\n",
       "      <td>-9.020562e-17</td>\n",
       "    </tr>\n",
       "    <tr>\n",
       "      <th>4</th>\n",
       "      <td>-0.673146</td>\n",
       "      <td>1.110223e-16</td>\n",
       "      <td>-2.081668e-17</td>\n",
       "    </tr>\n",
       "  </tbody>\n",
       "</table>\n",
       "</div>"
      ],
      "text/plain": [
       "          0             1             2\n",
       "0 -6.058310  1.054712e-15  6.245005e-17\n",
       "1 -4.712019  9.436896e-16 -3.955170e-16\n",
       "2 -3.365728  6.106227e-16 -7.632783e-17\n",
       "3 -2.019437  3.885781e-16 -9.020562e-17\n",
       "4 -0.673146  1.110223e-16 -2.081668e-17"
      ]
     },
     "execution_count": 22,
     "metadata": {},
     "output_type": "execute_result"
    }
   ],
   "source": [
    "vt_df = pd.DataFrame(vt.T)\n",
    "vt_df.head()"
   ]
  },
  {
   "cell_type": "markdown",
   "id": "204057e5",
   "metadata": {},
   "source": [
    "These are our principal components!  Each variable in this new basis is orthogonal to one another and the information contributed is statistically independent!"
   ]
  },
  {
   "cell_type": "code",
   "execution_count": 23,
   "id": "27c8ce33",
   "metadata": {},
   "outputs": [
    {
     "data": {
      "text/plain": [
       "array([[16.6146, -0.    ,  0.    ],\n",
       "       [-0.    ,  0.    , -0.    ],\n",
       "       [ 0.    , -0.    ,  0.    ]])"
      ]
     },
     "execution_count": 23,
     "metadata": {},
     "output_type": "execute_result"
    }
   ],
   "source": [
    "np.round(np.cov(vt), 4)"
   ]
  },
  {
   "cell_type": "markdown",
   "id": "b8c06254",
   "metadata": {},
   "source": [
    "© 2022, Quant Guild"
   ]
  }
 ],
 "metadata": {
  "kernelspec": {
   "display_name": "Python 3 (ipykernel)",
   "language": "python",
   "name": "python3"
  },
  "language_info": {
   "codemirror_mode": {
    "name": "ipython",
    "version": 3
   },
   "file_extension": ".py",
   "mimetype": "text/x-python",
   "name": "python",
   "nbconvert_exporter": "python",
   "pygments_lexer": "ipython3",
   "version": "3.9.9"
  }
 },
 "nbformat": 4,
 "nbformat_minor": 5
}
